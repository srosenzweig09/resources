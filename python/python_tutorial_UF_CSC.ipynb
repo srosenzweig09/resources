{
 "cells": [
  {
   "cell_type": "markdown",
   "id": "popular-childhood",
   "metadata": {},
   "source": [
    "# Welcome to a Python tutorial hosted by UF CSC!\n",
    "\n",
    "Python is a powerful language used commonly in data analysis due to its efficient high-level data structures and its simple but effective approach to object-oriented programming. Python is very user-friendly in that its functions are easy for humans to read.\n",
    "\n",
    "This tutorial is written in Jupyter Notebooks, a web-based interactive computational environment. Code is written in blocks and executed by pressing `Shift + Enter`. Try executing the cell below this text to print out \"Hello, World!\" "
   ]
  },
  {
   "cell_type": "code",
   "execution_count": 1,
   "id": "qualified-conviction",
   "metadata": {},
   "outputs": [
    {
     "name": "stdout",
     "output_type": "stream",
     "text": [
      "Hello, World!\n"
     ]
    }
   ],
   "source": [
    "print(\"Hello, World!\")"
   ]
  },
  {
   "cell_type": "markdown",
   "id": "progressive-necessity",
   "metadata": {},
   "source": [
    "As you may have guessed, the print() function will return a string with some output. If we were working in the terminal, your terminal would print \"Hello, World!\" In this case, \"Hello, World!\" is printed as the output of the above cell.\n",
    "\n",
    "Python works well with computations, strings, and lists right out of the box."
   ]
  },
  {
   "cell_type": "markdown",
   "id": "demanding-house",
   "metadata": {},
   "source": [
    "### Numbers in Python"
   ]
  },
  {
   "cell_type": "code",
   "execution_count": 2,
   "id": "brave-frank",
   "metadata": {},
   "outputs": [],
   "source": [
    "x = 10 # This is a comment"
   ]
  },
  {
   "cell_type": "code",
   "execution_count": 3,
   "id": "pediatric-atlanta",
   "metadata": {},
   "outputs": [],
   "source": [
    "y = 5"
   ]
  },
  {
   "cell_type": "code",
   "execution_count": 4,
   "id": "black-northwest",
   "metadata": {},
   "outputs": [
    {
     "name": "stdout",
     "output_type": "stream",
     "text": [
      "50\n"
     ]
    }
   ],
   "source": [
    "# This is also a comment\n",
    "print(x*y)"
   ]
  },
  {
   "cell_type": "code",
   "execution_count": 64,
   "id": "popular-hometown",
   "metadata": {},
   "outputs": [
    {
     "name": "stdout",
     "output_type": "stream",
     "text": [
      "10 5\n"
     ]
    }
   ],
   "source": [
    "print(x,y)"
   ]
  },
  {
   "cell_type": "code",
   "execution_count": 65,
   "id": "elder-clarity",
   "metadata": {},
   "outputs": [
    {
     "name": "stdout",
     "output_type": "stream",
     "text": [
      "x =  10 , y =  5\n"
     ]
    }
   ],
   "source": [
    "print(\"x = \", x, \", y = \",y)"
   ]
  },
  {
   "cell_type": "markdown",
   "id": "organizational-stamp",
   "metadata": {},
   "source": [
    "In Jupyter notebooks, the final line of a cell block will typically print some kind of output. This is useful for evaluating some code without explicitly printing it out. See the example in the cell below."
   ]
  },
  {
   "cell_type": "code",
   "execution_count": 5,
   "id": "ranking-checklist",
   "metadata": {},
   "outputs": [
    {
     "data": {
      "text/plain": [
       "50"
      ]
     },
     "execution_count": 5,
     "metadata": {},
     "output_type": "execute_result"
    }
   ],
   "source": [
    "x*y"
   ]
  },
  {
   "cell_type": "markdown",
   "id": "logical-yemen",
   "metadata": {},
   "source": [
    "As will be shown later, this can be a blessing and a curse."
   ]
  },
  {
   "cell_type": "markdown",
   "id": "liberal-authority",
   "metadata": {},
   "source": [
    "### Strings in Python"
   ]
  },
  {
   "cell_type": "code",
   "execution_count": 8,
   "id": "optimum-austin",
   "metadata": {},
   "outputs": [
    {
     "name": "stdout",
     "output_type": "stream",
     "text": [
      "Strings are denoted by quotation marks.\n"
     ]
    }
   ],
   "source": [
    "this_is_a_string = \"Strings are denoted by quotation marks.\"\n",
    "print(this_is_a_string)"
   ]
  },
  {
   "cell_type": "code",
   "execution_count": 11,
   "id": "lesbian-attachment",
   "metadata": {},
   "outputs": [
    {
     "data": {
      "text/plain": [
       "'Strings are denoted by quotation marks.'"
      ]
     },
     "execution_count": 11,
     "metadata": {},
     "output_type": "execute_result"
    }
   ],
   "source": [
    "this_is_a_string"
   ]
  },
  {
   "cell_type": "code",
   "execution_count": 10,
   "id": "superior-calculator",
   "metadata": {},
   "outputs": [
    {
     "name": "stdout",
     "output_type": "stream",
     "text": [
      "Strings can be in double or single quotation marks.\n"
     ]
    }
   ],
   "source": [
    "this_is_also_a_string = 'Strings can be in double or single quotation marks.'\n",
    "print(this_is_also_a_string)"
   ]
  },
  {
   "cell_type": "code",
   "execution_count": 12,
   "id": "statewide-favorite",
   "metadata": {},
   "outputs": [
    {
     "data": {
      "text/plain": [
       "'Strings can be in double or single quotation marks.'"
      ]
     },
     "execution_count": 12,
     "metadata": {},
     "output_type": "execute_result"
    }
   ],
   "source": [
    "this_is_also_a_string"
   ]
  },
  {
   "cell_type": "markdown",
   "id": "ecological-survival",
   "metadata": {},
   "source": [
    "### Lists and Loops in Python"
   ]
  },
  {
   "cell_type": "markdown",
   "id": "australian-outdoors",
   "metadata": {},
   "source": [
    "Lists are denoted by square brackets."
   ]
  },
  {
   "cell_type": "code",
   "execution_count": 13,
   "id": "moving-hygiene",
   "metadata": {},
   "outputs": [],
   "source": [
    "my_list = ['apple', 'pear', 'orange']"
   ]
  },
  {
   "cell_type": "code",
   "execution_count": 14,
   "id": "intellectual-victor",
   "metadata": {},
   "outputs": [
    {
     "name": "stdout",
     "output_type": "stream",
     "text": [
      "['apple', 'pear', 'orange']\n"
     ]
    }
   ],
   "source": [
    "print(my_list)"
   ]
  },
  {
   "cell_type": "markdown",
   "id": "cutting-eligibility",
   "metadata": {},
   "source": [
    "`for` loops are a very convenient way to navigate through data. Python makes it easy to work with **iterables**, such as the list above. One can loop through a list in the following way:"
   ]
  },
  {
   "cell_type": "code",
   "execution_count": 15,
   "id": "bored-electric",
   "metadata": {},
   "outputs": [
    {
     "name": "stdout",
     "output_type": "stream",
     "text": [
      "apple\n",
      "pear\n",
      "orange\n"
     ]
    }
   ],
   "source": [
    "for obj in my_list:\n",
    "    print(obj)"
   ]
  },
  {
   "cell_type": "markdown",
   "id": "coral-checkout",
   "metadata": {},
   "source": [
    "Python also makes it easy to enumerate lists. Below is an example that combines an enumerated list with **f-strings**, which are a convenient way to print variables in Python."
   ]
  },
  {
   "cell_type": "code",
   "execution_count": 16,
   "id": "local-credit",
   "metadata": {},
   "outputs": [
    {
     "name": "stdout",
     "output_type": "stream",
     "text": [
      "0 : apple\n",
      "1 : pear\n",
      "2 : orange\n"
     ]
    }
   ],
   "source": [
    "for i,obj in enumerate(my_list):\n",
    "    print(f\"{i} : {obj}\")"
   ]
  },
  {
   "cell_type": "markdown",
   "id": "accessory-holly",
   "metadata": {},
   "source": [
    "Perhaps I didn't have a list of things over which I wanted to iterate and instead wanted to loop through the numbers 0-9."
   ]
  },
  {
   "cell_type": "code",
   "execution_count": 17,
   "id": "arctic-olympus",
   "metadata": {},
   "outputs": [
    {
     "name": "stdout",
     "output_type": "stream",
     "text": [
      "0\n",
      "1\n",
      "2\n",
      "3\n",
      "4\n",
      "5\n",
      "6\n",
      "7\n",
      "8\n",
      "9\n"
     ]
    }
   ],
   "source": [
    "for i in range(10):\n",
    "    print(i)"
   ]
  },
  {
   "cell_type": "markdown",
   "id": "engaged-yellow",
   "metadata": {},
   "source": [
    "Notice I did not say from 1-10. Python uses 0 as the first index and uses exclusive counting, so the for loop in the cell above is terminated once 10 is reached, hence is does not print `i = 10`.\n",
    "\n",
    "Python can also be used to test **boolean** statements, or `if` statements."
   ]
  },
  {
   "cell_type": "markdown",
   "id": "focal-somerset",
   "metadata": {},
   "source": [
    "### Booleans in Python"
   ]
  },
  {
   "cell_type": "code",
   "execution_count": 18,
   "id": "smoking-tutorial",
   "metadata": {},
   "outputs": [],
   "source": [
    "my_boolean = True"
   ]
  },
  {
   "cell_type": "code",
   "execution_count": 19,
   "id": "nasty-elimination",
   "metadata": {},
   "outputs": [
    {
     "name": "stdout",
     "output_type": "stream",
     "text": [
      "Pass!\n"
     ]
    }
   ],
   "source": [
    "if my_boolean: print(\"Pass!\")"
   ]
  },
  {
   "cell_type": "markdown",
   "id": "coated-wayne",
   "metadata": {},
   "source": [
    "Python is super readable for humans so we could write something like:"
   ]
  },
  {
   "cell_type": "code",
   "execution_count": 20,
   "id": "fancy-listing",
   "metadata": {},
   "outputs": [],
   "source": [
    "my_false_bool = False"
   ]
  },
  {
   "cell_type": "code",
   "execution_count": 21,
   "id": "emotional-spirit",
   "metadata": {},
   "outputs": [
    {
     "name": "stdout",
     "output_type": "stream",
     "text": [
      "This should print!\n"
     ]
    }
   ],
   "source": [
    "if not my_false_bool: print(\"This should print!\")"
   ]
  },
  {
   "cell_type": "markdown",
   "id": "lasting-leone",
   "metadata": {},
   "source": [
    "The `if` statement is looking for a `True` value. Since we set `my_false_bool` equal to false but then **negated** it, the statement `not my_false_bool` returns `not False`, which is `True`.\n",
    "\n",
    "While Python is a powerful programming language, it is not without its faults.\n",
    "\n",
    "In the following example, `a = 0.1 + 0.2` and `b = 0.3`, which should be equivalent. However, run the following cell blocks..."
   ]
  },
  {
   "cell_type": "code",
   "execution_count": 44,
   "id": "minimal-necklace",
   "metadata": {},
   "outputs": [],
   "source": [
    "a = 0.1 + 0.2"
   ]
  },
  {
   "cell_type": "code",
   "execution_count": 45,
   "id": "varying-measurement",
   "metadata": {},
   "outputs": [],
   "source": [
    "b = 0.3"
   ]
  },
  {
   "cell_type": "code",
   "execution_count": 46,
   "id": "opened-virtue",
   "metadata": {},
   "outputs": [
    {
     "data": {
      "text/plain": [
       "False"
      ]
     },
     "execution_count": 46,
     "metadata": {},
     "output_type": "execute_result"
    }
   ],
   "source": [
    "a == b"
   ]
  },
  {
   "cell_type": "markdown",
   "id": "individual-princeton",
   "metadata": {},
   "source": [
    "What?! False?! We can get some insight by printing `a`."
   ]
  },
  {
   "cell_type": "code",
   "execution_count": 47,
   "id": "virtual-rebecca",
   "metadata": {},
   "outputs": [
    {
     "data": {
      "text/plain": [
       "0.30000000000000004"
      ]
     },
     "execution_count": 47,
     "metadata": {},
     "output_type": "execute_result"
    }
   ],
   "source": [
    "a"
   ]
  },
  {
   "cell_type": "markdown",
   "id": "early-delicious",
   "metadata": {},
   "source": [
    "Limited precision causes rounding errors. They don't happen often but they are something to keep in mind."
   ]
  },
  {
   "cell_type": "markdown",
   "id": "fitted-fleece",
   "metadata": {},
   "source": [
    "Back to some of the more powerful functions of Python... Let's look at lists and arrays. We already made `my_list`, and we can observe the elements inside in the following way:"
   ]
  },
  {
   "cell_type": "code",
   "execution_count": 48,
   "id": "automated-arnold",
   "metadata": {},
   "outputs": [
    {
     "data": {
      "text/plain": [
       "'apple'"
      ]
     },
     "execution_count": 48,
     "metadata": {},
     "output_type": "execute_result"
    }
   ],
   "source": [
    "my_list[0]"
   ]
  },
  {
   "cell_type": "code",
   "execution_count": 49,
   "id": "alleged-driving",
   "metadata": {},
   "outputs": [
    {
     "data": {
      "text/plain": [
       "'pear'"
      ]
     },
     "execution_count": 49,
     "metadata": {},
     "output_type": "execute_result"
    }
   ],
   "source": [
    "my_list[1]"
   ]
  },
  {
   "cell_type": "code",
   "execution_count": 50,
   "id": "official-plane",
   "metadata": {},
   "outputs": [
    {
     "data": {
      "text/plain": [
       "'orange'"
      ]
     },
     "execution_count": 50,
     "metadata": {},
     "output_type": "execute_result"
    }
   ],
   "source": [
    "my_list[2]"
   ]
  },
  {
   "cell_type": "code",
   "execution_count": 51,
   "id": "elegant-kansas",
   "metadata": {},
   "outputs": [
    {
     "ename": "IndexError",
     "evalue": "list index out of range",
     "output_type": "error",
     "traceback": [
      "\u001b[0;31m---------------------------------------------------------------------------\u001b[0m",
      "\u001b[0;31mIndexError\u001b[0m                                Traceback (most recent call last)",
      "\u001b[0;32m<ipython-input-51-64c78a5a3098>\u001b[0m in \u001b[0;36m<module>\u001b[0;34m\u001b[0m\n\u001b[0;32m----> 1\u001b[0;31m \u001b[0mmy_list\u001b[0m\u001b[0;34m[\u001b[0m\u001b[0;36m3\u001b[0m\u001b[0;34m]\u001b[0m\u001b[0;34m\u001b[0m\u001b[0;34m\u001b[0m\u001b[0m\n\u001b[0m",
      "\u001b[0;31mIndexError\u001b[0m: list index out of range"
     ]
    }
   ],
   "source": [
    "my_list[3]"
   ]
  },
  {
   "cell_type": "markdown",
   "id": "young-eating",
   "metadata": {},
   "source": [
    "Notice that an error is thrown if we try to index an element that doesn't exist. Remember, `my_list` only has three elements in it. We have so far only worked with native lists in Python. Now is a good time to introduce libraries that can be loaded into our Python environment so we can use functions from that library. An extremely popular and useful library is the `numpy` library."
   ]
  },
  {
   "cell_type": "markdown",
   "id": "inclusive-apartment",
   "metadata": {},
   "source": [
    "### Libraries in Python"
   ]
  },
  {
   "cell_type": "code",
   "execution_count": 52,
   "id": "incorporated-wedding",
   "metadata": {},
   "outputs": [],
   "source": [
    "import numpy as np"
   ]
  },
  {
   "cell_type": "markdown",
   "id": "hollywood-florence",
   "metadata": {},
   "source": [
    "We can import numpy with the shorthand `np`, which allows us to call functions from the **numpy** library in the following way:"
   ]
  },
  {
   "cell_type": "code",
   "execution_count": 53,
   "id": "abroad-press",
   "metadata": {},
   "outputs": [],
   "source": [
    "numpy_array = np.array((1,2,3))"
   ]
  },
  {
   "cell_type": "code",
   "execution_count": 54,
   "id": "through-recycling",
   "metadata": {},
   "outputs": [
    {
     "data": {
      "text/plain": [
       "array([1, 2, 3])"
      ]
     },
     "execution_count": 54,
     "metadata": {},
     "output_type": "execute_result"
    }
   ],
   "source": [
    "numpy_array"
   ]
  },
  {
   "cell_type": "markdown",
   "id": "advised-cookbook",
   "metadata": {},
   "source": [
    "This object behaves in ways that are more flexible than `my_list`."
   ]
  },
  {
   "cell_type": "markdown",
   "id": "successful-symposium",
   "metadata": {},
   "source": [
    "We can learn about its properties, such as its shape"
   ]
  },
  {
   "cell_type": "code",
   "execution_count": 55,
   "id": "stretch-marriage",
   "metadata": {},
   "outputs": [
    {
     "data": {
      "text/plain": [
       "(3,)"
      ]
     },
     "execution_count": 55,
     "metadata": {},
     "output_type": "execute_result"
    }
   ],
   "source": [
    "numpy_array.shape"
   ]
  },
  {
   "cell_type": "code",
   "execution_count": 56,
   "id": "technical-diana",
   "metadata": {},
   "outputs": [
    {
     "data": {
      "text/plain": [
       "3"
      ]
     },
     "execution_count": 56,
     "metadata": {},
     "output_type": "execute_result"
    }
   ],
   "source": [
    "numpy_array.max()"
   ]
  },
  {
   "cell_type": "markdown",
   "id": "acquired-colony",
   "metadata": {},
   "source": [
    "Notice that the `max()` function was followed by closed parentheses but the `shape` instance was not. This is because objects in Python can have instances, functions, classes, and modules. "
   ]
  },
  {
   "cell_type": "markdown",
   "id": "welsh-capitol",
   "metadata": {},
   "source": [
    "Python lists and Numpy arrays will have similar behaviors but differing methods for calling them. For instance"
   ]
  },
  {
   "cell_type": "code",
   "execution_count": 57,
   "id": "digital-appointment",
   "metadata": {},
   "outputs": [],
   "source": [
    "my_list.append('banana')"
   ]
  },
  {
   "cell_type": "code",
   "execution_count": 58,
   "id": "north-planet",
   "metadata": {},
   "outputs": [
    {
     "data": {
      "text/plain": [
       "['apple', 'pear', 'orange', 'banana']"
      ]
     },
     "execution_count": 58,
     "metadata": {},
     "output_type": "execute_result"
    }
   ],
   "source": [
    "my_list"
   ]
  },
  {
   "cell_type": "code",
   "execution_count": 59,
   "id": "decimal-serbia",
   "metadata": {},
   "outputs": [
    {
     "ename": "AttributeError",
     "evalue": "'numpy.ndarray' object has no attribute 'append'",
     "output_type": "error",
     "traceback": [
      "\u001b[0;31m---------------------------------------------------------------------------\u001b[0m",
      "\u001b[0;31mAttributeError\u001b[0m                            Traceback (most recent call last)",
      "\u001b[0;32m<ipython-input-59-3ca5094ad8cb>\u001b[0m in \u001b[0;36m<module>\u001b[0;34m\u001b[0m\n\u001b[0;32m----> 1\u001b[0;31m \u001b[0mnumpy_array\u001b[0m\u001b[0;34m.\u001b[0m\u001b[0mappend\u001b[0m\u001b[0;34m(\u001b[0m\u001b[0;36m4\u001b[0m\u001b[0;34m)\u001b[0m\u001b[0;34m\u001b[0m\u001b[0;34m\u001b[0m\u001b[0m\n\u001b[0m",
      "\u001b[0;31mAttributeError\u001b[0m: 'numpy.ndarray' object has no attribute 'append'"
     ]
    }
   ],
   "source": [
    "numpy_array.append(4)"
   ]
  },
  {
   "cell_type": "markdown",
   "id": "consistent-princess",
   "metadata": {},
   "source": [
    "The above cell threw an error but the cell below will not"
   ]
  },
  {
   "cell_type": "code",
   "execution_count": 60,
   "id": "challenging-profile",
   "metadata": {},
   "outputs": [
    {
     "data": {
      "text/plain": [
       "array([1, 2, 3, 4])"
      ]
     },
     "execution_count": 60,
     "metadata": {},
     "output_type": "execute_result"
    }
   ],
   "source": [
    "np.append(numpy_array, 4)"
   ]
  },
  {
   "cell_type": "markdown",
   "id": "combined-nancy",
   "metadata": {},
   "source": [
    "However, notice that `numpy_array` has not changed."
   ]
  },
  {
   "cell_type": "code",
   "execution_count": 61,
   "id": "effective-bottom",
   "metadata": {},
   "outputs": [
    {
     "data": {
      "text/plain": [
       "array([1, 2, 3])"
      ]
     },
     "execution_count": 61,
     "metadata": {},
     "output_type": "execute_result"
    }
   ],
   "source": [
    "numpy_array"
   ]
  },
  {
   "cell_type": "markdown",
   "id": "approximate-plant",
   "metadata": {},
   "source": [
    "It isn't until we redefine `numpy_array` that it will change."
   ]
  },
  {
   "cell_type": "code",
   "execution_count": 62,
   "id": "caroline-underground",
   "metadata": {},
   "outputs": [],
   "source": [
    "numpy_array = np.append(numpy_array, 4)"
   ]
  },
  {
   "cell_type": "code",
   "execution_count": 63,
   "id": "engaged-depth",
   "metadata": {},
   "outputs": [
    {
     "data": {
      "text/plain": [
       "array([1, 2, 3, 4])"
      ]
     },
     "execution_count": 63,
     "metadata": {},
     "output_type": "execute_result"
    }
   ],
   "source": [
    "numpy_array"
   ]
  },
  {
   "cell_type": "markdown",
   "id": "streaming-rabbit",
   "metadata": {},
   "source": [
    "It's important to understand the behaviors of the objects you are using. The Internet is an important resource when it comes to debugging code."
   ]
  },
  {
   "cell_type": "markdown",
   "id": "oriented-protection",
   "metadata": {},
   "source": [
    "### Plotting in Python"
   ]
  },
  {
   "cell_type": "code",
   "execution_count": null,
   "id": "aquatic-diversity",
   "metadata": {},
   "outputs": [],
   "source": []
  },
  {
   "cell_type": "markdown",
   "id": "union-prevention",
   "metadata": {},
   "source": [
    "Now let's introduce plotting in Python. `Matplotlib` is the library that is easiest to work with when it comes to plotting. Specifically, we will call the `pyplot` interface."
   ]
  },
  {
   "cell_type": "code",
   "execution_count": 66,
   "id": "serial-occasion",
   "metadata": {},
   "outputs": [],
   "source": [
    "import matplotlib.pyplot as plt"
   ]
  },
  {
   "cell_type": "code",
   "execution_count": 76,
   "id": "adapted-scheduling",
   "metadata": {},
   "outputs": [
    {
     "data": {
      "text/plain": [
       "[<matplotlib.lines.Line2D at 0x12393ab20>]"
      ]
     },
     "execution_count": 76,
     "metadata": {},
     "output_type": "execute_result"
    },
    {
     "data": {
      "image/png": "[encoded data removed]",
      "text/plain": [
       "<Figure size 432x288 with 1 Axes>"
      ]
     },
     "metadata": {
      "needs_background": "light"
     },
     "output_type": "display_data"
    }
   ],
   "source": [
    "x = np.linspace(0, 2*np.pi, 100)\n",
    "plt.plot(x, np.sin(x)) # plt.plot(x,y) where y = sin(x)"
   ]
  },
  {
   "cell_type": "code",
   "execution_count": 75,
   "id": "buried-friday",
   "metadata": {},
   "outputs": [
    {
     "data": {
      "text/plain": [
       "<matplotlib.legend.Legend at 0x1238d55b0>"
      ]
     },
     "execution_count": 75,
     "metadata": {},
     "output_type": "execute_result"
    },
    {
     "data": {
      "image/png": "[encoded data removed]",
      "text/plain": [
       "<Figure size 432x288 with 1 Axes>"
      ]
     },
     "metadata": {
      "needs_background": "light"
     },
     "output_type": "display_data"
    }
   ],
   "source": [
    "x = np.linspace(0, 2*np.pi, 100)\n",
    "plt.plot(x, np.sin(x), label=r'$\\sin\\theta$')\n",
    "plt.plot(x, np.cos(x), label=r'$\\cos\\theta$')\n",
    "plt.legend()"
   ]
  },
  {
   "cell_type": "code",
   "execution_count": 78,
   "id": "multiple-laundry",
   "metadata": {},
   "outputs": [
    {
     "data": {
      "image/png": "[encoded data removed]",
      "text/plain": [
       "<Figure size 432x288 with 1 Axes>"
      ]
     },
     "metadata": {
      "needs_background": "light"
     },
     "output_type": "display_data"
    }
   ],
   "source": [
    "plt.plot(x, np.sin(x), label=r'$\\sin\\theta$')\n",
    "plt.plot(x, np.cos(x), label=r'$\\cos\\theta$')\n",
    "plt.xlabel(r'$\\theta$ [rad]')\n",
    "plt.legend()\n",
    "plt.show()"
   ]
  },
  {
   "cell_type": "markdown",
   "id": "romance-option",
   "metadata": {},
   "source": [
    "For more customizability, one can create a figure to hold your plot."
   ]
  },
  {
   "cell_type": "code",
   "execution_count": 80,
   "id": "determined-strand",
   "metadata": {},
   "outputs": [
    {
     "data": {
      "image/png": "[encoded data removed]",
      "text/plain": [
       "<Figure size 432x288 with 1 Axes>"
      ]
     },
     "metadata": {
      "needs_background": "light"
     },
     "output_type": "display_data"
    }
   ],
   "source": [
    "fig, ax = plt.subplots()\n",
    "ax.plot(x, np.sin(x), label=r'$\\sin\\theta$')\n",
    "ax.plot(x, np.cos(x), label=r'$\\cos\\theta$')\n",
    "ax.set_xlabel(r'$\\theta$ [rad]')\n",
    "ax.legend()\n",
    "plt.show()"
   ]
  },
  {
   "cell_type": "code",
   "execution_count": null,
   "id": "coupled-insulation",
   "metadata": {},
   "outputs": [],
   "source": []
  },
  {
   "cell_type": "code",
   "execution_count": null,
   "id": "disabled-resource",
   "metadata": {},
   "outputs": [],
   "source": []
  },
  {
   "cell_type": "code",
   "execution_count": null,
   "id": "alert-japanese",
   "metadata": {},
   "outputs": [],
   "source": []
  },
  {
   "cell_type": "code",
   "execution_count": null,
   "id": "private-serial",
   "metadata": {},
   "outputs": [],
   "source": []
  },
  {
   "cell_type": "code",
   "execution_count": null,
   "id": "duplicate-primary",
   "metadata": {},
   "outputs": [],
   "source": []
  },
  {
   "cell_type": "code",
   "execution_count": null,
   "id": "willing-estate",
   "metadata": {},
   "outputs": [],
   "source": []
  },
  {
   "cell_type": "code",
   "execution_count": null,
   "id": "supposed-quality",
   "metadata": {},
   "outputs": [],
   "source": []
  }
 ],
 "metadata": {
  "kernelspec": {
   "display_name": "Python 3",
   "language": "python",
   "name": "python3"
  },
  "language_info": {
   "codemirror_mode": {
    "name": "ipython",
    "version": 3
   },
   "file_extension": ".py",
   "mimetype": "text/x-python",
   "name": "python",
   "nbconvert_exporter": "python",
   "pygments_lexer": "ipython3",
   "version": "3.9.2"
  }
 },
 "nbformat": 4,
 "nbformat_minor": 5
}
